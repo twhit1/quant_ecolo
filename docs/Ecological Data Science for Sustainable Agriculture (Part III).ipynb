{
 "cells": [
  {
   "cell_type": "markdown",
   "id": "731b74f5-dba1-4d3f-8f1b-2a5811a6ddbb",
   "metadata": {
    "editable": true,
    "slideshow": {
     "slide_type": ""
    },
    "tags": []
   },
   "source": [
    "# Ecological Data Science for Sustainable Agriculture (Part III)"
   ]
  },
  {
   "cell_type": "markdown",
   "id": "11d11536-169e-4e8f-86a8-6152bb0d461a",
   "metadata": {},
   "source": [
    "## Summary\n",
    "__Planned publication date:__ 03/05/2024\n",
    "\n",
    "Remote sensing data provides large-scale, high-frequency information on vegetation cover changes. In particular, use of vegetation indices and productivity/phenology analysis frameworks enables national-level crop yield estimation, but also possibly proxies biodiversity declines associated with increasing agricultural intensity [1].\n",
    "\n",
    "This notebook will examine the applicability of Sentinel-2 derived productivity parameters to act as a proxy for UK National Plant Monitoring Scheme metrics on vascular plant biodiversity.\n",
    "\n",
    "\n",
    "## References\n",
    "1. Abdi, A. M., Carrié, R., Sidemo-Holm, W., Cai, Z., Boke-Olén, N., Smith, H. G., Eklundh, L., & Ekroos, J. (2021). Biodiversity decline with increasing crop productivity in agricultural fields revealed by satellite remote sensing. Ecological Indicators, 130, 108098. https://doi.org/https://doi.org/10.1016/j.ecolind.2021.108098"
   ]
  }
 ],
 "metadata": {
  "kernelspec": {
   "display_name": "Python 3 (ipykernel)",
   "language": "python",
   "name": "python3"
  },
  "language_info": {
   "codemirror_mode": {
    "name": "ipython",
    "version": 3
   },
   "file_extension": ".py",
   "mimetype": "text/x-python",
   "name": "python",
   "nbconvert_exporter": "python",
   "pygments_lexer": "ipython3",
   "version": "3.9.18"
  }
 },
 "nbformat": 4,
 "nbformat_minor": 5
}
