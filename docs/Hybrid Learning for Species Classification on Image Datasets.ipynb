{
 "cells": [
  {
   "cell_type": "markdown",
   "id": "dff1bf12-f046-4010-b52e-d502fb2c02f3",
   "metadata": {},
   "source": [
    "# Hybrid Learning for Species Classification on Image Datasets"
   ]
  },
  {
   "cell_type": "markdown",
   "id": "9bf59116-3ebf-4771-b0fc-14145343ebf3",
   "metadata": {},
   "source": [
    "## Summary\n",
    "__Planned publication date:__ 30/06/2024\n",
    "\n",
    "Fine-grained visual categorisation remains a challenge in the field of machine learning, despite significant advances in image-based classification more generally. Integrating standard approaches such as convolutional neural networks (CNNs) with domain knowledge, specifically biological hierarchies (taxonomic data), has been shown to improve classification performance, particularly in cases with poor training datasets (scarce data, occluded features) [1].\n",
    "\n",
    "This notebook will explore the concept of combining standard image segmentation and classification approaches (adapted using a transfer learning framework), with expert knowledge on visual species identification."
   ]
  },
  {
   "cell_type": "markdown",
   "id": "f66af68c-32ba-4052-b774-b3da04aa4dff",
   "metadata": {},
   "source": [
    "## Work plan"
   ]
  },
  {
   "cell_type": "markdown",
   "id": "81e20878-67f6-4150-b4b9-86a7ce88481e",
   "metadata": {},
   "source": [
    "- Set this up on Colab?\n",
    "- Get data - not available. So find an alternative image dataset, maybe look at inat or a more specific example.\n",
    "    - Look for data with public scores available, and scoring metrics clearly defined\n",
    "    - Birds could be a nice one, because of freely available visual ID info\n",
    "- Try to reproduce the methodology\n",
    "    - Take a standard resnet just on species level information\n",
    "    - Then integrate the taxonomic information as in the paper (separate resnet for genus level)\n",
    "    - Benchmark the performance of these against public scores\n",
    "- Come up with an architecture that would permit expert data to be encoded somehow\n",
    "    - Is there a bird present in the image\n",
    "    - Which features of the bird are clearly visible"
   ]
  },
  {
   "cell_type": "markdown",
   "id": "9afe7b27-f04d-4a11-bb2a-8f051498f2e0",
   "metadata": {},
   "source": [
    "On birds\n",
    "- https://github.com/google-research-datasets/birds-to-words\n",
    "\n",
    "And the related page __has some potentially interesting articles to read__:\n",
    "- https://mbforbes.github.io/neural-naturalist/"
   ]
  },
  {
   "cell_type": "markdown",
   "id": "04e99dd2-2262-45da-baad-2ef6b4e4aef3",
   "metadata": {},
   "source": [
    "## References\n",
    "1. Elhamod, M., Diamond, K. M., Murat Maga, A., Bakis, Y., Bart, H. L. Jr., Mabee, P., Dahdul, W., Leipzig, J., Greenberg, J., Avants, B., & Karpatne, A. (2022). Hierarchy-guided neural network for species classification. Methods in Ecology and Evolution, 13, 642–652. https://doi.org/10.1111/2041-210X.13768"
   ]
  }
 ],
 "metadata": {
  "kernelspec": {
   "display_name": "Python 3 (ipykernel)",
   "language": "python",
   "name": "python3"
  },
  "language_info": {
   "codemirror_mode": {
    "name": "ipython",
    "version": 3
   },
   "file_extension": ".py",
   "mimetype": "text/x-python",
   "name": "python",
   "nbconvert_exporter": "python",
   "pygments_lexer": "ipython3",
   "version": "3.9.18"
  }
 },
 "nbformat": 4,
 "nbformat_minor": 5
}
