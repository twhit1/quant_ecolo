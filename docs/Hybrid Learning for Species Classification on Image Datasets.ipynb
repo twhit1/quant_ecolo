{
 "cells": [
  {
   "cell_type": "markdown",
   "id": "dff1bf12-f046-4010-b52e-d502fb2c02f3",
   "metadata": {},
   "source": [
    "# Hybrid Learning for Species Classification on Image Datasets"
   ]
  },
  {
   "cell_type": "markdown",
   "id": "6ca0810a-e89e-4759-8e86-ec51684a8ee3",
   "metadata": {},
   "source": [
    "## Summary\n",
    "__Planned publication date:__ 30/06/2024\n",
    "\n",
    "Fine-grained visual categorisation remains a challenge in the field of machine learning, despite significant advances in image-based classification more generally. Integrating standard approaches such as convolutional neural networks (CNNs) with domain knowledge, specifically biological hierarchies (taxonomic data), has been shown to improve classification performance, particularly in cases with poor training datasets (scarce data, occluded features) [1].\n",
    "\n",
    "This notebook will explore the concept of combining standard image segmentation and classification approaches (adapted using a transfer learning framework), with expert knowledge on visual species identification.\n",
    "\n",
    "\n",
    "\n",
    "## References\n",
    "1. Elhamod, M., Diamond, K. M., Murat Maga, A., Bakis, Y., Bart, H. L. Jr., Mabee, P., Dahdul, W., Leipzig, J., Greenberg, J., Avants, B., & Karpatne, A. (2022). Hierarchy-guided neural network for species classification. Methods in Ecology and Evolution, 13, 642–652. https://doi.org/10.1111/2041-210X.13768"
   ]
  }
 ],
 "metadata": {
  "kernelspec": {
   "display_name": "Python 3 (ipykernel)",
   "language": "python",
   "name": "python3"
  },
  "language_info": {
   "codemirror_mode": {
    "name": "ipython",
    "version": 3
   },
   "file_extension": ".py",
   "mimetype": "text/x-python",
   "name": "python",
   "nbconvert_exporter": "python",
   "pygments_lexer": "ipython3",
   "version": "3.9.18"
  }
 },
 "nbformat": 4,
 "nbformat_minor": 5
}
