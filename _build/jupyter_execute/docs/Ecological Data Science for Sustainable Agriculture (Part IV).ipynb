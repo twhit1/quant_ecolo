{
 "cells": [
  {
   "cell_type": "markdown",
   "id": "34786387-0f01-48ac-81ba-8477b33be690",
   "metadata": {},
   "source": [
    "# Ecological Data Science for Sustainable Agriculture (Part IV)"
   ]
  },
  {
   "cell_type": "markdown",
   "id": "2a0edb2b-7101-4c79-b8d5-d9dcca47e135",
   "metadata": {},
   "source": [
    "## Summary\n",
    "__Planned publication date:__ 17/05/2024\n",
    "\n",
    "Data-driven insights aimed at enabling sustainable agriculture must account for a complex set of often competing criteria, such as maintaining food security, ensuring sector economic stability, and reversing biodiversity loss associated with agricultural operations. \n",
    "\n",
    "This notebook will aim to demonstrate a pragmatic application of some of the other topics covered in this series, to highlight areas in the UK in which agricultural yields are relatively low and pesticide inputs are relatively high. In the context of a pollinator abundance species distribution model, the notebook will show how this operations data presents an opportunity to optimise large-scale sustainable farming strategies to maintain productivity whilst reducing pesticide exposure for pollinators.\n",
    "\n",
    "In particular, the notebook will make use of a 1km resolution map of input to yield ratios (IYR) weighted by pesticide mixture risk for honeybees specifically [1]. \n",
    "\n",
    "## References\n",
    "1. Bullock, J. M., Jarvis, S. G., Fincham, W. N. W., Risser, H., Schultz, C., Spurgeon, D. J., Redhead, J. W., Storkey, J., & Pywell, R. F. (2024). Mapping the ratio of agricultural inputs to yields reveals areas with potentially less sustainable farming. Science of The Total Environment, 909, 168491. https://doi.org/https://doi.org/10.1016/j.scitotenv.2023.168491"
   ]
  }
 ],
 "metadata": {
  "kernelspec": {
   "display_name": "Python 3 (ipykernel)",
   "language": "python",
   "name": "python3"
  },
  "language_info": {
   "codemirror_mode": {
    "name": "ipython",
    "version": 3
   },
   "file_extension": ".py",
   "mimetype": "text/x-python",
   "name": "python",
   "nbconvert_exporter": "python",
   "pygments_lexer": "ipython3",
   "version": "3.9.18"
  }
 },
 "nbformat": 4,
 "nbformat_minor": 5
}